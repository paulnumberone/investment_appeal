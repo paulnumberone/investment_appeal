{
 "cells": [
  {
   "cell_type": "code",
   "execution_count": 31,
   "metadata": {},
   "outputs": [],
   "source": [
    "import pandas as pd\n",
    "import numpy as np\n",
    "import matplotlib.pyplot as plt\n",
    "import calendar\n",
    "import datetime\n",
    "from datetime import date, timedelta, datetime\n",
    "import warnings\n",
    "from itertools import product\n",
    "from scipy import stats\n",
    "from sklearn import linear_model\n",
    "import statsmodels.api as sm\n",
    "import requests\n",
    "from bs4 import BeautifulSoup\n",
    "import re\n",
    "warnings.filterwarnings(\"ignore\")\n",
    "%matplotlib inline"
   ]
  },
  {
   "cell_type": "code",
   "execution_count": 2,
   "metadata": {},
   "outputs": [],
   "source": [
    "factors = pd.read_excel(r'145_factors.xlsx',  index_col = [0])\n",
    "factors.drop('Субъект', axis=1, inplace=True)"
   ]
  },
  {
   "cell_type": "code",
   "execution_count": 3,
   "metadata": {},
   "outputs": [],
   "source": [
    "factors.columns = factors.iloc[1]+'-'+factors.iloc[0]\n",
    "factors.drop('01-12-2016', axis=1, inplace=True)"
   ]
  },
  {
   "cell_type": "code",
   "execution_count": 4,
   "metadata": {},
   "outputs": [],
   "source": [
    "factors_nsk, factors_psk, factors_tvr = factors.iloc[2:, :48].T, factors.iloc[2:, 48:96].T, factors.iloc[2:, 96:].T"
   ]
  },
  {
   "cell_type": "code",
   "execution_count": 5,
   "metadata": {},
   "outputs": [],
   "source": [
    "factors_nsk.index = pd.to_datetime(factors_nsk.index, format='%d-%m-%Y')\n",
    "factors_psk.index = pd.to_datetime(factors_psk.index, format='%d-%m-%Y')\n",
    "factors_tvr.index = pd.to_datetime(factors_tvr.index, format='%d-%m-%Y')"
   ]
  },
  {
   "cell_type": "code",
   "execution_count": 6,
   "metadata": {},
   "outputs": [],
   "source": [
    "soc_supp_cols = ['Регион', 'Код_региона', '06-06-2016', '12-12-2016', '06-06-2017', '12-12-2017', '06-06-2018', '12-12-2018', '06-06-2019']\n",
    "file_name = r'13151000200220200001_Расходы_консолидированного_бюджета_субъекта_Российской_Федерации__на_реализацию.xlsx'\n",
    "soc_supp = pd.read_excel(file_name,\n",
    "                        names = soc_supp_cols,  index_col = [0]).iloc[4:].drop('Код_региона', axis=1).T\n",
    "soc_supp.index = pd.to_datetime(soc_supp.index, format='%d-%m-%Y')"
   ]
  },
  {
   "cell_type": "code",
   "execution_count": 7,
   "metadata": {},
   "outputs": [],
   "source": [
    "factors_nsk = factors_nsk.join(soc_supp['Новосибирская область'])\n",
    "factors_psk = factors_psk.join(soc_supp['Псковская область'])\n",
    "factors_tvr = factors_tvr.join(soc_supp['Тверская область'])"
   ]
  },
  {
   "cell_type": "code",
   "execution_count": 8,
   "metadata": {},
   "outputs": [],
   "source": [
    "file_name = r'11522140300010200001_Индексы_тарифов_на_грузовые__перевозки.xlsx'\n",
    "trucking = pd.read_excel(file_name,  index_col = [0]).iloc[3:, 1:]"
   ]
  },
  {
   "cell_type": "code",
   "execution_count": 9,
   "metadata": {},
   "outputs": [],
   "source": [
    "dates=[]\n",
    "for j in [2016, 2017, 2018, 2019]:\n",
    "    for i in range(1, 13):\n",
    "        dates.append(str(i)+'-'+str(i)+'-'+str(j))\n",
    "dates.append('1-1-2020')\n",
    "trucking.columns=dates\n",
    "trucking = trucking.T\n",
    "trucking.index = pd.to_datetime(trucking.index, format='%d-%m-%Y')"
   ]
  },
  {
   "cell_type": "code",
   "execution_count": 10,
   "metadata": {},
   "outputs": [],
   "source": [
    "factors_nsk = factors_nsk.join(trucking['Новосибирская область'], rsuffix=\"_тарифы_грузоперевозок\")\n",
    "factors_psk = factors_psk.join(trucking['Псковская область'], rsuffix=\"_тарифы_грузоперевозок\")\n",
    "factors_tvr = factors_tvr.join(trucking['Тверская область'], rsuffix=\"_тарифы_грузоперевозок\")"
   ]
  },
  {
   "cell_type": "markdown",
   "metadata": {},
   "source": [
    "#### Таблицы по регионам выглядят таким образом"
   ]
  },
  {
   "cell_type": "code",
   "execution_count": 42,
   "metadata": {},
   "outputs": [
    {
     "data": {
      "text/html": [
       "<div>\n",
       "<style scoped>\n",
       "    .dataframe tbody tr th:only-of-type {\n",
       "        vertical-align: middle;\n",
       "    }\n",
       "\n",
       "    .dataframe tbody tr th {\n",
       "        vertical-align: top;\n",
       "    }\n",
       "\n",
       "    .dataframe thead th {\n",
       "        text-align: right;\n",
       "    }\n",
       "</style>\n",
       "<table border=\"1\" class=\"dataframe\">\n",
       "  <thead>\n",
       "    <tr style=\"text-align: right;\">\n",
       "      <th></th>\n",
       "      <th>1</th>\n",
       "      <th>2</th>\n",
       "      <th>3</th>\n",
       "      <th>4</th>\n",
       "      <th>5</th>\n",
       "      <th>6</th>\n",
       "      <th>7</th>\n",
       "      <th>8</th>\n",
       "      <th>9</th>\n",
       "      <th>10</th>\n",
       "      <th>...</th>\n",
       "      <th>30</th>\n",
       "      <th>31</th>\n",
       "      <th>32</th>\n",
       "      <th>33</th>\n",
       "      <th>34</th>\n",
       "      <th>35</th>\n",
       "      <th>36</th>\n",
       "      <th>37</th>\n",
       "      <th>38</th>\n",
       "      <th>39</th>\n",
       "    </tr>\n",
       "  </thead>\n",
       "  <tbody>\n",
       "    <tr>\n",
       "      <th>2019-08-08</th>\n",
       "      <td>335.75</td>\n",
       "      <td>131.6</td>\n",
       "      <td>10779.6</td>\n",
       "      <td>NaN</td>\n",
       "      <td>16.25</td>\n",
       "      <td>618.29</td>\n",
       "      <td>262495</td>\n",
       "      <td>3.99188e+07</td>\n",
       "      <td>NaN</td>\n",
       "      <td>NaN</td>\n",
       "      <td>...</td>\n",
       "      <td>32099</td>\n",
       "      <td>32322</td>\n",
       "      <td>NaN</td>\n",
       "      <td>NaN</td>\n",
       "      <td>20444.7</td>\n",
       "      <td>409184</td>\n",
       "      <td>NaN</td>\n",
       "      <td>NaN</td>\n",
       "      <td>NaN</td>\n",
       "      <td>101.72</td>\n",
       "    </tr>\n",
       "    <tr>\n",
       "      <th>2019-09-09</th>\n",
       "      <td>375.25</td>\n",
       "      <td>121.8</td>\n",
       "      <td>10453.2</td>\n",
       "      <td>NaN</td>\n",
       "      <td>14.67</td>\n",
       "      <td>696.77</td>\n",
       "      <td>294895</td>\n",
       "      <td>4.37233e+07</td>\n",
       "      <td>NaN</td>\n",
       "      <td>NaN</td>\n",
       "      <td>...</td>\n",
       "      <td>27658</td>\n",
       "      <td>33246</td>\n",
       "      <td>0</td>\n",
       "      <td>3327.4</td>\n",
       "      <td>22726.6</td>\n",
       "      <td>471439</td>\n",
       "      <td>NaN</td>\n",
       "      <td>NaN</td>\n",
       "      <td>NaN</td>\n",
       "      <td>101.72</td>\n",
       "    </tr>\n",
       "    <tr>\n",
       "      <th>2019-10-10</th>\n",
       "      <td>361.25</td>\n",
       "      <td>121.3</td>\n",
       "      <td>10425.2</td>\n",
       "      <td>NaN</td>\n",
       "      <td>15.9</td>\n",
       "      <td>697.9</td>\n",
       "      <td>332012</td>\n",
       "      <td>5.18839e+07</td>\n",
       "      <td>NaN</td>\n",
       "      <td>NaN</td>\n",
       "      <td>...</td>\n",
       "      <td>28889</td>\n",
       "      <td>33004</td>\n",
       "      <td>NaN</td>\n",
       "      <td>NaN</td>\n",
       "      <td>24867.1</td>\n",
       "      <td>539295</td>\n",
       "      <td>NaN</td>\n",
       "      <td>NaN</td>\n",
       "      <td>NaN</td>\n",
       "      <td>101.71</td>\n",
       "    </tr>\n",
       "    <tr>\n",
       "      <th>2019-11-11</th>\n",
       "      <td>349.86</td>\n",
       "      <td>154</td>\n",
       "      <td>10315.5</td>\n",
       "      <td>NaN</td>\n",
       "      <td>14.33</td>\n",
       "      <td>795.13</td>\n",
       "      <td>367297</td>\n",
       "      <td>5.65758e+07</td>\n",
       "      <td>NaN</td>\n",
       "      <td>NaN</td>\n",
       "      <td>...</td>\n",
       "      <td>NaN</td>\n",
       "      <td>NaN</td>\n",
       "      <td>NaN</td>\n",
       "      <td>NaN</td>\n",
       "      <td>27131</td>\n",
       "      <td>603803</td>\n",
       "      <td>NaN</td>\n",
       "      <td>NaN</td>\n",
       "      <td>NaN</td>\n",
       "      <td>101.71</td>\n",
       "    </tr>\n",
       "    <tr>\n",
       "      <th>2019-12-12</th>\n",
       "      <td>332.75</td>\n",
       "      <td>135</td>\n",
       "      <td>10537.3</td>\n",
       "      <td>NaN</td>\n",
       "      <td>14.31</td>\n",
       "      <td>634.04</td>\n",
       "      <td>NaN</td>\n",
       "      <td>NaN</td>\n",
       "      <td>NaN</td>\n",
       "      <td>NaN</td>\n",
       "      <td>...</td>\n",
       "      <td>NaN</td>\n",
       "      <td>NaN</td>\n",
       "      <td>NaN</td>\n",
       "      <td>NaN</td>\n",
       "      <td>NaN</td>\n",
       "      <td>NaN</td>\n",
       "      <td>NaN</td>\n",
       "      <td>NaN</td>\n",
       "      <td>NaN</td>\n",
       "      <td>101.71</td>\n",
       "    </tr>\n",
       "  </tbody>\n",
       "</table>\n",
       "<p>5 rows × 39 columns</p>\n",
       "</div>"
      ],
      "text/plain": [
       "                1      2        3    4      5       6       7            8   \\\n",
       "2019-08-08  335.75  131.6  10779.6  NaN  16.25  618.29  262495  3.99188e+07   \n",
       "2019-09-09  375.25  121.8  10453.2  NaN  14.67  696.77  294895  4.37233e+07   \n",
       "2019-10-10  361.25  121.3  10425.2  NaN   15.9   697.9  332012  5.18839e+07   \n",
       "2019-11-11  349.86    154  10315.5  NaN  14.33  795.13  367297  5.65758e+07   \n",
       "2019-12-12  332.75    135  10537.3  NaN  14.31  634.04     NaN          NaN   \n",
       "\n",
       "             9    10  ...     30     31   32      33       34      35   36  \\\n",
       "2019-08-08  NaN  NaN  ...  32099  32322  NaN     NaN  20444.7  409184  NaN   \n",
       "2019-09-09  NaN  NaN  ...  27658  33246    0  3327.4  22726.6  471439  NaN   \n",
       "2019-10-10  NaN  NaN  ...  28889  33004  NaN     NaN  24867.1  539295  NaN   \n",
       "2019-11-11  NaN  NaN  ...    NaN    NaN  NaN     NaN    27131  603803  NaN   \n",
       "2019-12-12  NaN  NaN  ...    NaN    NaN  NaN     NaN      NaN     NaN  NaN   \n",
       "\n",
       "             37   38      39  \n",
       "2019-08-08  NaN  NaN  101.72  \n",
       "2019-09-09  NaN  NaN  101.72  \n",
       "2019-10-10  NaN  NaN  101.71  \n",
       "2019-11-11  NaN  NaN  101.71  \n",
       "2019-12-12  NaN  NaN  101.71  \n",
       "\n",
       "[5 rows x 39 columns]"
      ]
     },
     "execution_count": 42,
     "metadata": {},
     "output_type": "execute_result"
    }
   ],
   "source": [
    "factors_tvr.tail()"
   ]
  },
  {
   "cell_type": "markdown",
   "metadata": {},
   "source": [
    "#### Поскольку есть пропущенные значения, a сама искомая величина ИПР подсчитывалась раз в год, то для регрессии имеет смысл суммировать показатели по годам."
   ]
  },
  {
   "cell_type": "code",
   "execution_count": 12,
   "metadata": {},
   "outputs": [],
   "source": [
    "res_nsk = factors_nsk.groupby(factors_nsk.index.year).sum()\n",
    "res_psk = factors_psk.groupby(factors_psk.index.year).sum()\n",
    "res_tvr = factors_tvr.groupby(factors_tvr.index.year).sum()"
   ]
  },
  {
   "cell_type": "code",
   "execution_count": 13,
   "metadata": {},
   "outputs": [
    {
     "data": {
      "text/html": [
       "<div>\n",
       "<style scoped>\n",
       "    .dataframe tbody tr th:only-of-type {\n",
       "        vertical-align: middle;\n",
       "    }\n",
       "\n",
       "    .dataframe tbody tr th {\n",
       "        vertical-align: top;\n",
       "    }\n",
       "\n",
       "    .dataframe thead th {\n",
       "        text-align: right;\n",
       "    }\n",
       "</style>\n",
       "<table border=\"1\" class=\"dataframe\">\n",
       "  <thead>\n",
       "    <tr style=\"text-align: right;\">\n",
       "      <th></th>\n",
       "      <th>02.20.1 Лесоматериалы необработанные (с 2017 г.), тыс. плотн. куб. м</th>\n",
       "      <th>08.12.12.140 Щебень (с 2017 г.), тыс. куб. м</th>\n",
       "      <th>10.11.1 Мясо крупного рогатого скота, свинина, баранина, козлятина, конина и мясо прочих животных семейства лошадиных, оленина и мясо прочих животных семейства оленьих (оленевых) парные, остывшие или охлажденные (с 2017 г.), т</th>\n",
       "      <th>10.13.14.610 Продукты из мяса (с 2017 г.), т</th>\n",
       "      <th>10.51.40.100 Сыры (с 2017 г.), т</th>\n",
       "      <th>10.51.40.300 Творог (с 2017 г.), т</th>\n",
       "      <th>ГОСУДАРСТВЕННАЯ ПОШЛИНА, тыс. руб.</th>\n",
       "      <th>ДОХОДЫ (налоговые и неналоговые доходы; без учета безвозмездных поступлений и доходов от предпринимательской деятельности) (с 2005 г.), тыс. руб.</th>\n",
       "      <th>Доля малых предприятий по виду экон. деятельности \"Транспорт и связь\" от общего числа малых предприятий (на конец года), %</th>\n",
       "      <th>Дотации на выравнивание уровня бюджетной обеспеченности (с 2002 г.), тыс. руб.</th>\n",
       "      <th>...</th>\n",
       "      <th>Просроченная кредиторская задолженность крупных и средних организаций (на конец отчетного периода), млн. руб.</th>\n",
       "      <th>Среднемесячная начисленная зарплата (за  месяц), руб.</th>\n",
       "      <th>Средства внебюджетных фондов на счетах кредитных организаций (на 1 число след. квартала) (до 01.10.2007 - тыс. руб.), млн. руб.</th>\n",
       "      <th>Сумма операций по банковским картам юридических лиц (по месту регистрации кредитных организаций (их филиалов) - эмитентов карт), всего (до 01.04.2017 Москва и МО суммарно) (за квартал), млн. руб.</th>\n",
       "      <th>Телевидение и радиовещание, тыс. руб.</th>\n",
       "      <th>Транспорт, тыс. руб.</th>\n",
       "      <th>Численность населения (на конец года), тыс. чел.</th>\n",
       "      <th>Число автобусов общего пользования на 100 тыс. человек населения (на конец года), шт.</th>\n",
       "      <th>Псковская область</th>\n",
       "      <th>Псковская область_тарифы_грузоперевозок</th>\n",
       "    </tr>\n",
       "  </thead>\n",
       "  <tbody>\n",
       "    <tr>\n",
       "      <th>2016</th>\n",
       "      <td>0.00</td>\n",
       "      <td>0.00</td>\n",
       "      <td>0.00</td>\n",
       "      <td>0.00</td>\n",
       "      <td>0.00</td>\n",
       "      <td>0.00</td>\n",
       "      <td>331870.50</td>\n",
       "      <td>4.587070e+07</td>\n",
       "      <td>9.14</td>\n",
       "      <td>8949861.1</td>\n",
       "      <td>...</td>\n",
       "      <td>25624</td>\n",
       "      <td>267290</td>\n",
       "      <td>0</td>\n",
       "      <td>1935.40</td>\n",
       "      <td>2061.08</td>\n",
       "      <td>1112966.72</td>\n",
       "      <td>642</td>\n",
       "      <td>155.26</td>\n",
       "      <td>2509965.00</td>\n",
       "      <td>1198.92</td>\n",
       "    </tr>\n",
       "    <tr>\n",
       "      <th>2017</th>\n",
       "      <td>665.69</td>\n",
       "      <td>329.87</td>\n",
       "      <td>131891.44</td>\n",
       "      <td>4655.01</td>\n",
       "      <td>13153.05</td>\n",
       "      <td>2367.78</td>\n",
       "      <td>982351.09</td>\n",
       "      <td>1.221722e+08</td>\n",
       "      <td>7.90</td>\n",
       "      <td>24802042.0</td>\n",
       "      <td>...</td>\n",
       "      <td>64348</td>\n",
       "      <td>279942</td>\n",
       "      <td>0</td>\n",
       "      <td>4738.30</td>\n",
       "      <td>0.00</td>\n",
       "      <td>2760698.53</td>\n",
       "      <td>636</td>\n",
       "      <td>155.00</td>\n",
       "      <td>2522319.00</td>\n",
       "      <td>1212.79</td>\n",
       "    </tr>\n",
       "    <tr>\n",
       "      <th>2018</th>\n",
       "      <td>1051.47</td>\n",
       "      <td>414.10</td>\n",
       "      <td>98929.65</td>\n",
       "      <td>13430.34</td>\n",
       "      <td>13629.30</td>\n",
       "      <td>1976.51</td>\n",
       "      <td>1059704.03</td>\n",
       "      <td>1.351755e+08</td>\n",
       "      <td>8.42</td>\n",
       "      <td>0.0</td>\n",
       "      <td>...</td>\n",
       "      <td>36819</td>\n",
       "      <td>322352</td>\n",
       "      <td>0</td>\n",
       "      <td>10263.06</td>\n",
       "      <td>0.00</td>\n",
       "      <td>2840477.02</td>\n",
       "      <td>630</td>\n",
       "      <td>150.00</td>\n",
       "      <td>2937537.99</td>\n",
       "      <td>1219.59</td>\n",
       "    </tr>\n",
       "    <tr>\n",
       "      <th>2019</th>\n",
       "      <td>1055.68</td>\n",
       "      <td>596.60</td>\n",
       "      <td>96981.89</td>\n",
       "      <td>13930.93</td>\n",
       "      <td>10256.56</td>\n",
       "      <td>2107.34</td>\n",
       "      <td>934751.31</td>\n",
       "      <td>1.234455e+08</td>\n",
       "      <td>0.00</td>\n",
       "      <td>0.0</td>\n",
       "      <td>...</td>\n",
       "      <td>32909</td>\n",
       "      <td>286600</td>\n",
       "      <td>0</td>\n",
       "      <td>3794.46</td>\n",
       "      <td>0.00</td>\n",
       "      <td>2394013.38</td>\n",
       "      <td>0</td>\n",
       "      <td>0.00</td>\n",
       "      <td>1227969.00</td>\n",
       "      <td>1228.70</td>\n",
       "    </tr>\n",
       "  </tbody>\n",
       "</table>\n",
       "<p>4 rows × 39 columns</p>\n",
       "</div>"
      ],
      "text/plain": [
       "      02.20.1 Лесоматериалы необработанные (с 2017 г.), тыс. плотн. куб. м  \\\n",
       "2016                                               0.00                      \n",
       "2017                                             665.69                      \n",
       "2018                                            1051.47                      \n",
       "2019                                            1055.68                      \n",
       "\n",
       "      08.12.12.140 Щебень (с 2017 г.), тыс. куб. м  \\\n",
       "2016                                          0.00   \n",
       "2017                                        329.87   \n",
       "2018                                        414.10   \n",
       "2019                                        596.60   \n",
       "\n",
       "      10.11.1 Мясо крупного рогатого скота, свинина, баранина, козлятина, конина и мясо прочих животных семейства лошадиных, оленина и мясо прочих животных семейства оленьих (оленевых) парные, остывшие или охлажденные (с 2017 г.), т  \\\n",
       "2016                                               0.00                                                                                                                                                                                    \n",
       "2017                                          131891.44                                                                                                                                                                                    \n",
       "2018                                           98929.65                                                                                                                                                                                    \n",
       "2019                                           96981.89                                                                                                                                                                                    \n",
       "\n",
       "      10.13.14.610 Продукты из мяса (с 2017 г.), т  \\\n",
       "2016                                          0.00   \n",
       "2017                                       4655.01   \n",
       "2018                                      13430.34   \n",
       "2019                                      13930.93   \n",
       "\n",
       "      10.51.40.100 Сыры (с 2017 г.), т  10.51.40.300 Творог (с 2017 г.), т  \\\n",
       "2016                              0.00                                0.00   \n",
       "2017                          13153.05                             2367.78   \n",
       "2018                          13629.30                             1976.51   \n",
       "2019                          10256.56                             2107.34   \n",
       "\n",
       "      ГОСУДАРСТВЕННАЯ ПОШЛИНА, тыс. руб.  \\\n",
       "2016                           331870.50   \n",
       "2017                           982351.09   \n",
       "2018                          1059704.03   \n",
       "2019                           934751.31   \n",
       "\n",
       "      ДОХОДЫ (налоговые и неналоговые доходы; без учета безвозмездных поступлений и доходов от предпринимательской деятельности) (с 2005 г.), тыс. руб.  \\\n",
       "2016                                       4.587070e+07                                                                                                   \n",
       "2017                                       1.221722e+08                                                                                                   \n",
       "2018                                       1.351755e+08                                                                                                   \n",
       "2019                                       1.234455e+08                                                                                                   \n",
       "\n",
       "      Доля малых предприятий по виду экон. деятельности \"Транспорт и связь\" от общего числа малых предприятий (на конец года), %  \\\n",
       "2016                                               9.14                                                                            \n",
       "2017                                               7.90                                                                            \n",
       "2018                                               8.42                                                                            \n",
       "2019                                               0.00                                                                            \n",
       "\n",
       "      Дотации на выравнивание уровня бюджетной обеспеченности (с 2002 г.), тыс. руб.  \\\n",
       "2016                                          8949861.1                                \n",
       "2017                                         24802042.0                                \n",
       "2018                                                0.0                                \n",
       "2019                                                0.0                                \n",
       "\n",
       "      ...  \\\n",
       "2016  ...   \n",
       "2017  ...   \n",
       "2018  ...   \n",
       "2019  ...   \n",
       "\n",
       "      Просроченная кредиторская задолженность крупных и средних организаций (на конец отчетного периода), млн. руб.  \\\n",
       "2016                                              25624                                                               \n",
       "2017                                              64348                                                               \n",
       "2018                                              36819                                                               \n",
       "2019                                              32909                                                               \n",
       "\n",
       "      Среднемесячная начисленная зарплата (за  месяц), руб.  \\\n",
       "2016                                             267290       \n",
       "2017                                             279942       \n",
       "2018                                             322352       \n",
       "2019                                             286600       \n",
       "\n",
       "      Средства внебюджетных фондов на счетах кредитных организаций (на 1 число след. квартала) (до 01.10.2007 - тыс. руб.), млн. руб.  \\\n",
       "2016                                                  0                                                                                 \n",
       "2017                                                  0                                                                                 \n",
       "2018                                                  0                                                                                 \n",
       "2019                                                  0                                                                                 \n",
       "\n",
       "      Сумма операций по банковским картам юридических лиц (по месту регистрации кредитных организаций (их филиалов) - эмитентов карт), всего (до 01.04.2017 Москва и МО суммарно) (за квартал), млн. руб.  \\\n",
       "2016                                            1935.40                                                                                                                                                     \n",
       "2017                                            4738.30                                                                                                                                                     \n",
       "2018                                           10263.06                                                                                                                                                     \n",
       "2019                                            3794.46                                                                                                                                                     \n",
       "\n",
       "      Телевидение и радиовещание, тыс. руб.  Транспорт, тыс. руб.  \\\n",
       "2016                                2061.08            1112966.72   \n",
       "2017                                   0.00            2760698.53   \n",
       "2018                                   0.00            2840477.02   \n",
       "2019                                   0.00            2394013.38   \n",
       "\n",
       "      Численность населения (на конец года), тыс. чел.  \\\n",
       "2016                                               642   \n",
       "2017                                               636   \n",
       "2018                                               630   \n",
       "2019                                                 0   \n",
       "\n",
       "      Число автобусов общего пользования на 100 тыс. человек населения (на конец года), шт.  \\\n",
       "2016                                             155.26                                       \n",
       "2017                                             155.00                                       \n",
       "2018                                             150.00                                       \n",
       "2019                                               0.00                                       \n",
       "\n",
       "      Псковская область  Псковская область_тарифы_грузоперевозок  \n",
       "2016         2509965.00                                  1198.92  \n",
       "2017         2522319.00                                  1212.79  \n",
       "2018         2937537.99                                  1219.59  \n",
       "2019         1227969.00                                  1228.70  \n",
       "\n",
       "[4 rows x 39 columns]"
      ]
     },
     "execution_count": 13,
     "metadata": {},
     "output_type": "execute_result"
    }
   ],
   "source": [
    "res_psk"
   ]
  },
  {
   "cell_type": "markdown",
   "metadata": {},
   "source": [
    "#### В данных всех трех регионов было обнаружено, что по 2 признакам, значение которых не могло радикально измениться, нет значений за 2019 год. Заполним по предыдущему."
   ]
  },
  {
   "cell_type": "code",
   "execution_count": 14,
   "metadata": {},
   "outputs": [],
   "source": [
    "for el in ['Численность населения (на конец года), тыс. чел.', \n",
    "         'Число автобусов общего пользования на 100 тыс. человек населения (на конец года), шт.']:\n",
    "    for tab in [res_nsk, res_psk, res_tvr]:\n",
    "        tab[el][2019] = tab[el][2018]"
   ]
  },
  {
   "cell_type": "markdown",
   "metadata": {},
   "source": [
    "#### С сайта ra-national.ru вручную взял рейтинг регионов за 2106-2019 годы., т.к. таблицы в PDF\n",
    "(меньшее число обозначиает большую привлекательность)"
   ]
  },
  {
   "cell_type": "code",
   "execution_count": 15,
   "metadata": {},
   "outputs": [],
   "source": [
    "cols = ['Тверская область', 'Псковская область', 'Новосибирская область']\n",
    "rating = pd.DataFrame(np.array([[7, 8, 5], [7, 8, 4], [8, 7, 4], [6, 7, 4]]),\n",
    "                   columns=cols, index = [2016, 2017, 2018, 2019])"
   ]
  },
  {
   "cell_type": "code",
   "execution_count": 16,
   "metadata": {},
   "outputs": [
    {
     "data": {
      "text/html": [
       "<div>\n",
       "<style scoped>\n",
       "    .dataframe tbody tr th:only-of-type {\n",
       "        vertical-align: middle;\n",
       "    }\n",
       "\n",
       "    .dataframe tbody tr th {\n",
       "        vertical-align: top;\n",
       "    }\n",
       "\n",
       "    .dataframe thead th {\n",
       "        text-align: right;\n",
       "    }\n",
       "</style>\n",
       "<table border=\"1\" class=\"dataframe\">\n",
       "  <thead>\n",
       "    <tr style=\"text-align: right;\">\n",
       "      <th></th>\n",
       "      <th>Тверская область</th>\n",
       "      <th>Псковская область</th>\n",
       "      <th>Новосибирская область</th>\n",
       "    </tr>\n",
       "  </thead>\n",
       "  <tbody>\n",
       "    <tr>\n",
       "      <th>2016</th>\n",
       "      <td>7</td>\n",
       "      <td>8</td>\n",
       "      <td>5</td>\n",
       "    </tr>\n",
       "    <tr>\n",
       "      <th>2017</th>\n",
       "      <td>7</td>\n",
       "      <td>8</td>\n",
       "      <td>4</td>\n",
       "    </tr>\n",
       "    <tr>\n",
       "      <th>2018</th>\n",
       "      <td>8</td>\n",
       "      <td>7</td>\n",
       "      <td>4</td>\n",
       "    </tr>\n",
       "    <tr>\n",
       "      <th>2019</th>\n",
       "      <td>6</td>\n",
       "      <td>7</td>\n",
       "      <td>4</td>\n",
       "    </tr>\n",
       "  </tbody>\n",
       "</table>\n",
       "</div>"
      ],
      "text/plain": [
       "      Тверская область  Псковская область  Новосибирская область\n",
       "2016                 7                  8                      5\n",
       "2017                 7                  8                      4\n",
       "2018                 8                  7                      4\n",
       "2019                 6                  7                      4"
      ]
     },
     "execution_count": 16,
     "metadata": {},
     "output_type": "execute_result"
    }
   ],
   "source": [
    "rating"
   ]
  },
  {
   "cell_type": "markdown",
   "metadata": {},
   "source": [
    "#### В качестве переменной, имеющей количественное обозначение, использую долю инвестиционного потенциала регионов в общероссийском в 2017 году (по ней можно аппроксимировать доли в последующих годах)"
   ]
  },
  {
   "cell_type": "code",
   "execution_count": 17,
   "metadata": {},
   "outputs": [],
   "source": [
    "url = 'https://www.raexpert.ru/rankingtable/region_climat/2017/tab3'\n",
    "r = requests.get(url)\n",
    "r.encoding = 'utf-8' \n",
    "soup = BeautifulSoup(r.text)\n",
    "parse_table = str(soup.find('div', {'class': 'table_content_scroll'}))"
   ]
  },
  {
   "cell_type": "code",
   "execution_count": 18,
   "metadata": {},
   "outputs": [],
   "source": [
    "nsk_2017 = float((re.findall('Новосибирская область</a></td><td align=\"left\" class=\"ranking_content\" colspan=\"\" rowspan=\"\">(.+?)</td><td align=\"left\" class=\"ranking_content\" colspan=\"\" rowspan=\"\">', parse_table))[0])\n",
    "psk_2017 = float((re.findall('Псковская область</a></td><td align=\"left\" class=\"ranking_content\" colspan=\"\" rowspan=\"\">(.+?)</td><td align=\"left\" class=\"ranking_content\" colspan=\"\" rowspan=\"\">', parse_table))[0])\n",
    "tvr_2017 = float((re.findall('Тверская область</a></td><td align=\"left\" class=\"ranking_content\" colspan=\"\" rowspan=\"\">(.+?)</td><td align=\"left\" class=\"ranking_content\" colspan=\"\" rowspan=\"\">', parse_table))[0])"
   ]
  },
  {
   "cell_type": "code",
   "execution_count": 19,
   "metadata": {},
   "outputs": [],
   "source": [
    "potential = pd.DataFrame(np.array([[nsk_2017, psk_2017, tvr_2017]]), \n",
    "                         columns=['Новосибирская область', 'Псковская область','Тверская область']).T\n",
    "potential.columns=[2017]"
   ]
  },
  {
   "cell_type": "markdown",
   "metadata": {},
   "source": [
    "## Обучим и провалидируем модель"
   ]
  },
  {
   "cell_type": "code",
   "execution_count": 20,
   "metadata": {},
   "outputs": [
    {
     "name": "stdout",
     "output_type": "stream",
     "text": [
      "Тверская область:\n",
      "Предсказанное значение: 8, истинное: 6\n",
      "Псковская область:\n",
      "Предсказанное значение: 7, истинное: 7\n",
      "Новосибирская область:\n",
      "Предсказанное значение: 4, истинное: 4\n"
     ]
    }
   ],
   "source": [
    "datasets = [res_tvr, res_psk, res_nsk]\n",
    "for element, data in zip(cols, datasets):\n",
    "    clf = linear_model.LogisticRegression(random_state=0).fit(data[:3], rating[element][:3])\n",
    "    print(element, ':', sep='')\n",
    "    print('Предсказанное значение: ', int(clf.predict(data[3:])), ', истинное: ', int(rating[element][3:].values), sep='')"
   ]
  },
  {
   "cell_type": "markdown",
   "metadata": {},
   "source": [
    "#### Модель ошиблась в 1 случае, попробуем объединить все признаковые пространства (удалив названия признаков) и, обучившись на них, повторить прогноз"
   ]
  },
  {
   "cell_type": "code",
   "execution_count": 21,
   "metadata": {},
   "outputs": [],
   "source": [
    "co = range(1, 40)\n",
    "res_tvr.columns, res_nsk.columns, res_psk.columns = co, co, co"
   ]
  },
  {
   "cell_type": "code",
   "execution_count": 22,
   "metadata": {},
   "outputs": [],
   "source": [
    "clf = linear_model.LogisticRegression(random_state=0).fit(pd.concat([res_tvr[:3], res_nsk, res_psk]), \n",
    "                                             pd.concat([rating['Тверская область'][:3], rating['Новосибирская область'], rating['Псковская область']]))"
   ]
  },
  {
   "cell_type": "code",
   "execution_count": 23,
   "metadata": {},
   "outputs": [
    {
     "name": "stdout",
     "output_type": "stream",
     "text": [
      "Предсказанное значение: 8, истинное: 6\n"
     ]
    }
   ],
   "source": [
    "print('Предсказанное значение: ', int(clf.predict(res_tvr[3:])), ', истинное: ', int(rating['Тверская область'][3:]), sep='')"
   ]
  },
  {
   "cell_type": "markdown",
   "metadata": {},
   "source": [
    "#### Поскольку ошибка повторилась, вероятно, что при оценке инвестиционной привлекательности Тверской области сыграл фактор, не нашедший отражения в признаковом пространстве. Не менее вероятно, что верный результат на Псковской и Новосибирской областях - такое же совпадение. "
   ]
  },
  {
   "cell_type": "markdown",
   "metadata": {},
   "source": [
    "#### Офтоп: доля и прогноз доли регионов в общероссийском потенциале"
   ]
  },
  {
   "cell_type": "code",
   "execution_count": 24,
   "metadata": {},
   "outputs": [],
   "source": [
    "reg = linear_model.Lasso(alpha=0.05).fit(X=pd.concat([res_tvr.iloc[1], res_nsk.iloc[1], res_psk.iloc[1]], axis=1).T, y=potential)"
   ]
  },
  {
   "cell_type": "code",
   "execution_count": 25,
   "metadata": {},
   "outputs": [],
   "source": [
    "potential[2018]=reg.predict(pd.concat([res_tvr.iloc[2], res_nsk.iloc[2], res_psk.iloc[2]], axis=1).T).tolist()\n",
    "potential[2019]=reg.predict(pd.concat([res_tvr.iloc[3], res_nsk.iloc[3], res_psk.iloc[3]], axis=1).T).tolist()"
   ]
  },
  {
   "cell_type": "code",
   "execution_count": 26,
   "metadata": {},
   "outputs": [
    {
     "data": {
      "text/html": [
       "<div>\n",
       "<style scoped>\n",
       "    .dataframe tbody tr th:only-of-type {\n",
       "        vertical-align: middle;\n",
       "    }\n",
       "\n",
       "    .dataframe tbody tr th {\n",
       "        vertical-align: top;\n",
       "    }\n",
       "\n",
       "    .dataframe thead th {\n",
       "        text-align: right;\n",
       "    }\n",
       "</style>\n",
       "<table border=\"1\" class=\"dataframe\">\n",
       "  <thead>\n",
       "    <tr style=\"text-align: right;\">\n",
       "      <th></th>\n",
       "      <th>2017</th>\n",
       "      <th>2018</th>\n",
       "      <th>2019</th>\n",
       "    </tr>\n",
       "  </thead>\n",
       "  <tbody>\n",
       "    <tr>\n",
       "      <th>Новосибирская область</th>\n",
       "      <td>1.503</td>\n",
       "      <td>1.618174</td>\n",
       "      <td>1.812079</td>\n",
       "    </tr>\n",
       "    <tr>\n",
       "      <th>Псковская область</th>\n",
       "      <td>0.490</td>\n",
       "      <td>0.557114</td>\n",
       "      <td>0.547053</td>\n",
       "    </tr>\n",
       "    <tr>\n",
       "      <th>Тверская область</th>\n",
       "      <td>0.695</td>\n",
       "      <td>0.905922</td>\n",
       "      <td>0.910549</td>\n",
       "    </tr>\n",
       "  </tbody>\n",
       "</table>\n",
       "</div>"
      ],
      "text/plain": [
       "                        2017      2018      2019\n",
       "Новосибирская область  1.503  1.618174  1.812079\n",
       "Псковская область      0.490  0.557114  0.547053\n",
       "Тверская область       0.695  0.905922  0.910549"
      ]
     },
     "execution_count": 26,
     "metadata": {},
     "output_type": "execute_result"
    }
   ],
   "source": [
    "potential"
   ]
  },
  {
   "cell_type": "markdown",
   "metadata": {},
   "source": [
    "Если бы доля этих регионов в общероссийском потенциаде действительно росла так...\n",
    "Здесь можно увидеть лишь тенденцию показателей нашего ряда увеличиваться для всех регионов и давать больший результат при подстановке в обученное регрессией уравнение."
   ]
  },
  {
   "cell_type": "markdown",
   "metadata": {},
   "source": [
    "## Построим предсказание значений каждого признака на конец 2020 года и по ним предскажем обученной моделью ИПР"
   ]
  },
  {
   "cell_type": "code",
   "execution_count": 27,
   "metadata": {},
   "outputs": [],
   "source": [
    "factors_nsk.columns = range(1, 40)\n",
    "factors_psk.columns = range(1, 40)\n",
    "factors_tvr.columns = range(1, 40)"
   ]
  },
  {
   "cell_type": "markdown",
   "metadata": {},
   "source": [
    "### Среди признаков есть несколько типов, для каждого подберем стратегию предсказания его значений на 2020 год:\n",
    "#### Линеный ряд применим там, где:\n",
    "- есть все значения с 2017 года (1-8, 11, 12, 16, 20-25, 27, 29-31, 34-35, 39) - за 2016 год заполним ближайшим известным\n",
    "- есть пропущенные значения в данных с 2016 года (19 - NaN заполним нулями)\n",
    "- есть значения за каждый квартал (13-14, 15, 17, 18, 26, 28, 32-33)\n",
    "- есть значения за каждые полгода с 6.2017 (38)\n",
    "#### Линеный ряд не применим там, где мало значений:\n",
    "- показатель выставлялся раз в год (9, 36-37) - выставляем среднее последних двух значений\n",
    "- есть значения показателя до 2019 года (10) - выставляем 0"
   ]
  },
  {
   "cell_type": "code",
   "execution_count": 28,
   "metadata": {},
   "outputs": [],
   "source": [
    "for a in [1,2,3,4,5,6,7,8,11,12,16,20,21,22,23,24,25,27,29,30,31,34,35,39]:\n",
    "    factors_nsk[a] = factors_nsk[a].bfill()"
   ]
  },
  {
   "cell_type": "code",
   "execution_count": 40,
   "metadata": {},
   "outputs": [
    {
     "data": {
      "image/png": "[encoded data removed]",
      "text/plain": [
       "<Figure size 1224x216 with 1 Axes>"
      ]
     },
     "metadata": {
      "needs_background": "light"
     },
     "output_type": "display_data"
    },
    {
     "name": "stdout",
     "output_type": "stream",
     "text": [
      "Пропущено значений: 0 , критерий Дики-Фуллера: p = 0.0532862258802798\n",
      "(0, 0, 0, 0) 83.29422167808626\n",
      "(0, 0, 1, 0) 82.23052517678836\n",
      "(0, 0, 2, 0) 74.11315688896171\n"
     ]
    },
    {
     "data": {
      "image/png": "[encoded data removed]",
      "text/plain": [
       "<Figure size 1224x216 with 1 Axes>"
      ]
     },
     "metadata": {
      "needs_background": "light"
     },
     "output_type": "display_data"
    },
    {
     "name": "stdout",
     "output_type": "stream",
     "text": [
      "Пропущено значений: 0 , критерий Дики-Фуллера: p = 0.2353884442326244\n",
      "(0, 0, 0, 0) 458.94060307808735\n",
      "(0, 0, 1, 0) 440.5629093602798\n",
      "(0, 0, 2, 0) 437.4021858582141\n"
     ]
    },
    {
     "data": {
      "image/png": "[encoded data removed]",
      "text/plain": [
       "<Figure size 1224x216 with 1 Axes>"
      ]
     },
     "metadata": {
      "needs_background": "light"
     },
     "output_type": "display_data"
    },
    {
     "name": "stdout",
     "output_type": "stream",
     "text": [
      "Пропущено значений: 0 , критерий Дики-Фуллера: p = 0.000506384570864143\n"
     ]
    },
    {
     "data": {
      "image/png": "[encoded data removed]",
      "text/plain": [
       "<Figure size 1224x216 with 1 Axes>"
      ]
     },
     "metadata": {
      "needs_background": "light"
     },
     "output_type": "display_data"
    },
    {
     "name": "stdout",
     "output_type": "stream",
     "text": [
      "Оптимальный параметр преобразования Бокса-Кокса:  0.999991647692311\n",
      "Критерий Дики-Фуллера: p = 0.0005063828063074838\n",
      "(0, 0, 0, 0) 624.3626135356587\n",
      "(0, 0, 2, 0) 618.1957612713846\n",
      "(0, 1, 0, 0) 613.8516956865878\n",
      "(0, 1, 2, 0) 612.3728732937551\n"
     ]
    },
    {
     "ename": "LinAlgError",
     "evalue": "Singular matrix",
     "output_type": "error",
     "traceback": [
      "\u001b[1;31m---------------------------------------------------------------------------\u001b[0m",
      "\u001b[1;31mLinAlgError\u001b[0m                               Traceback (most recent call last)",
      "\u001b[1;32m<timed exec>\u001b[0m in \u001b[0;36m<module>\u001b[1;34m\u001b[0m\n",
      "\u001b[1;32mC:\\ProgramData\\Anaconda3\\lib\\site-packages\\statsmodels\\tsa\\statespace\\mlemodel.py\u001b[0m in \u001b[0;36mfit\u001b[1;34m(self, start_params, transformed, cov_type, cov_kwds, method, maxiter, full_output, disp, callback, return_params, optim_score, optim_complex_step, optim_hessian, flags, **kwargs)\u001b[0m\n\u001b[0;32m    467\u001b[0m                                            \u001b[0mfull_output\u001b[0m\u001b[1;33m=\u001b[0m\u001b[0mfull_output\u001b[0m\u001b[1;33m,\u001b[0m\u001b[1;33m\u001b[0m\u001b[1;33m\u001b[0m\u001b[0m\n\u001b[0;32m    468\u001b[0m                                            \u001b[0mdisp\u001b[0m\u001b[1;33m=\u001b[0m\u001b[0mdisp\u001b[0m\u001b[1;33m,\u001b[0m \u001b[0mcallback\u001b[0m\u001b[1;33m=\u001b[0m\u001b[0mcallback\u001b[0m\u001b[1;33m,\u001b[0m\u001b[1;33m\u001b[0m\u001b[1;33m\u001b[0m\u001b[0m\n\u001b[1;32m--> 469\u001b[1;33m                                            skip_hessian=True, **kwargs)\n\u001b[0m\u001b[0;32m    470\u001b[0m \u001b[1;33m\u001b[0m\u001b[0m\n\u001b[0;32m    471\u001b[0m         \u001b[1;31m# Just return the fitted parameters if requested\u001b[0m\u001b[1;33m\u001b[0m\u001b[1;33m\u001b[0m\u001b[1;33m\u001b[0m\u001b[0m\n",
      "\u001b[1;32mC:\\ProgramData\\Anaconda3\\lib\\site-packages\\statsmodels\\base\\model.py\u001b[0m in \u001b[0;36mfit\u001b[1;34m(self, start_params, method, maxiter, full_output, disp, fargs, callback, retall, skip_hessian, **kwargs)\u001b[0m\n\u001b[0;32m    464\u001b[0m                                                        \u001b[0mcallback\u001b[0m\u001b[1;33m=\u001b[0m\u001b[0mcallback\u001b[0m\u001b[1;33m,\u001b[0m\u001b[1;33m\u001b[0m\u001b[1;33m\u001b[0m\u001b[0m\n\u001b[0;32m    465\u001b[0m                                                        \u001b[0mretall\u001b[0m\u001b[1;33m=\u001b[0m\u001b[0mretall\u001b[0m\u001b[1;33m,\u001b[0m\u001b[1;33m\u001b[0m\u001b[1;33m\u001b[0m\u001b[0m\n\u001b[1;32m--> 466\u001b[1;33m                                                        full_output=full_output)\n\u001b[0m\u001b[0;32m    467\u001b[0m \u001b[1;33m\u001b[0m\u001b[0m\n\u001b[0;32m    468\u001b[0m         \u001b[1;31m# NOTE: this is for fit_regularized and should be generalized\u001b[0m\u001b[1;33m\u001b[0m\u001b[1;33m\u001b[0m\u001b[1;33m\u001b[0m\u001b[0m\n",
      "\u001b[1;32mC:\\ProgramData\\Anaconda3\\lib\\site-packages\\statsmodels\\base\\optimizer.py\u001b[0m in \u001b[0;36m_fit\u001b[1;34m(self, objective, gradient, start_params, fargs, kwargs, hessian, method, maxiter, full_output, disp, callback, retall)\u001b[0m\n\u001b[0;32m    189\u001b[0m                             \u001b[0mdisp\u001b[0m\u001b[1;33m=\u001b[0m\u001b[0mdisp\u001b[0m\u001b[1;33m,\u001b[0m \u001b[0mmaxiter\u001b[0m\u001b[1;33m=\u001b[0m\u001b[0mmaxiter\u001b[0m\u001b[1;33m,\u001b[0m \u001b[0mcallback\u001b[0m\u001b[1;33m=\u001b[0m\u001b[0mcallback\u001b[0m\u001b[1;33m,\u001b[0m\u001b[1;33m\u001b[0m\u001b[1;33m\u001b[0m\u001b[0m\n\u001b[0;32m    190\u001b[0m                             \u001b[0mretall\u001b[0m\u001b[1;33m=\u001b[0m\u001b[0mretall\u001b[0m\u001b[1;33m,\u001b[0m \u001b[0mfull_output\u001b[0m\u001b[1;33m=\u001b[0m\u001b[0mfull_output\u001b[0m\u001b[1;33m,\u001b[0m\u001b[1;33m\u001b[0m\u001b[1;33m\u001b[0m\u001b[0m\n\u001b[1;32m--> 191\u001b[1;33m                             hess=hessian)\n\u001b[0m\u001b[0;32m    192\u001b[0m \u001b[1;33m\u001b[0m\u001b[0m\n\u001b[0;32m    193\u001b[0m         optim_settings = {'optimizer': method, 'start_params': start_params,\n",
      "\u001b[1;32mC:\\ProgramData\\Anaconda3\\lib\\site-packages\\statsmodels\\base\\optimizer.py\u001b[0m in \u001b[0;36m_fit_lbfgs\u001b[1;34m(f, score, start_params, fargs, kwargs, disp, maxiter, callback, retall, full_output, hess)\u001b[0m\n\u001b[0;32m    408\u001b[0m                                      \u001b[0mcallback\u001b[0m\u001b[1;33m=\u001b[0m\u001b[0mcallback\u001b[0m\u001b[1;33m,\u001b[0m \u001b[0margs\u001b[0m\u001b[1;33m=\u001b[0m\u001b[0mfargs\u001b[0m\u001b[1;33m,\u001b[0m\u001b[1;33m\u001b[0m\u001b[1;33m\u001b[0m\u001b[0m\n\u001b[0;32m    409\u001b[0m                                      \u001b[0mbounds\u001b[0m\u001b[1;33m=\u001b[0m\u001b[0mbounds\u001b[0m\u001b[1;33m,\u001b[0m \u001b[0mdisp\u001b[0m\u001b[1;33m=\u001b[0m\u001b[0mdisp\u001b[0m\u001b[1;33m,\u001b[0m\u001b[1;33m\u001b[0m\u001b[1;33m\u001b[0m\u001b[0m\n\u001b[1;32m--> 410\u001b[1;33m                                      **extra_kwargs)\n\u001b[0m\u001b[0;32m    411\u001b[0m \u001b[1;33m\u001b[0m\u001b[0m\n\u001b[0;32m    412\u001b[0m     \u001b[1;32mif\u001b[0m \u001b[0mfull_output\u001b[0m\u001b[1;33m:\u001b[0m\u001b[1;33m\u001b[0m\u001b[1;33m\u001b[0m\u001b[0m\n",
      "\u001b[1;32mC:\\ProgramData\\Anaconda3\\lib\\site-packages\\scipy\\optimize\\lbfgsb.py\u001b[0m in \u001b[0;36mfmin_l_bfgs_b\u001b[1;34m(func, x0, fprime, args, approx_grad, bounds, m, factr, pgtol, epsilon, iprint, maxfun, maxiter, disp, callback, maxls)\u001b[0m\n\u001b[0;32m    197\u001b[0m \u001b[1;33m\u001b[0m\u001b[0m\n\u001b[0;32m    198\u001b[0m     res = _minimize_lbfgsb(fun, x0, args=args, jac=jac, bounds=bounds,\n\u001b[1;32m--> 199\u001b[1;33m                            **opts)\n\u001b[0m\u001b[0;32m    200\u001b[0m     d = {'grad': res['jac'],\n\u001b[0;32m    201\u001b[0m          \u001b[1;34m'task'\u001b[0m\u001b[1;33m:\u001b[0m \u001b[0mres\u001b[0m\u001b[1;33m[\u001b[0m\u001b[1;34m'message'\u001b[0m\u001b[1;33m]\u001b[0m\u001b[1;33m,\u001b[0m\u001b[1;33m\u001b[0m\u001b[1;33m\u001b[0m\u001b[0m\n",
      "\u001b[1;32mC:\\ProgramData\\Anaconda3\\lib\\site-packages\\scipy\\optimize\\lbfgsb.py\u001b[0m in \u001b[0;36m_minimize_lbfgsb\u001b[1;34m(fun, x0, args, jac, bounds, disp, maxcor, ftol, gtol, eps, maxfun, maxiter, iprint, callback, maxls, **unknown_options)\u001b[0m\n\u001b[0;32m    333\u001b[0m             \u001b[1;31m# until the completion of the current minimization iteration.\u001b[0m\u001b[1;33m\u001b[0m\u001b[1;33m\u001b[0m\u001b[1;33m\u001b[0m\u001b[0m\n\u001b[0;32m    334\u001b[0m             \u001b[1;31m# Overwrite f and g:\u001b[0m\u001b[1;33m\u001b[0m\u001b[1;33m\u001b[0m\u001b[1;33m\u001b[0m\u001b[0m\n\u001b[1;32m--> 335\u001b[1;33m             \u001b[0mf\u001b[0m\u001b[1;33m,\u001b[0m \u001b[0mg\u001b[0m \u001b[1;33m=\u001b[0m \u001b[0mfunc_and_grad\u001b[0m\u001b[1;33m(\u001b[0m\u001b[0mx\u001b[0m\u001b[1;33m)\u001b[0m\u001b[1;33m\u001b[0m\u001b[1;33m\u001b[0m\u001b[0m\n\u001b[0m\u001b[0;32m    336\u001b[0m         \u001b[1;32melif\u001b[0m \u001b[0mtask_str\u001b[0m\u001b[1;33m.\u001b[0m\u001b[0mstartswith\u001b[0m\u001b[1;33m(\u001b[0m\u001b[1;34mb'NEW_X'\u001b[0m\u001b[1;33m)\u001b[0m\u001b[1;33m:\u001b[0m\u001b[1;33m\u001b[0m\u001b[1;33m\u001b[0m\u001b[0m\n\u001b[0;32m    337\u001b[0m             \u001b[1;31m# new iteration\u001b[0m\u001b[1;33m\u001b[0m\u001b[1;33m\u001b[0m\u001b[1;33m\u001b[0m\u001b[0m\n",
      "\u001b[1;32mC:\\ProgramData\\Anaconda3\\lib\\site-packages\\scipy\\optimize\\lbfgsb.py\u001b[0m in \u001b[0;36mfunc_and_grad\u001b[1;34m(x)\u001b[0m\n\u001b[0;32m    278\u001b[0m     \u001b[1;32mif\u001b[0m \u001b[0mjac\u001b[0m \u001b[1;32mis\u001b[0m \u001b[1;32mNone\u001b[0m\u001b[1;33m:\u001b[0m\u001b[1;33m\u001b[0m\u001b[1;33m\u001b[0m\u001b[0m\n\u001b[0;32m    279\u001b[0m         \u001b[1;32mdef\u001b[0m \u001b[0mfunc_and_grad\u001b[0m\u001b[1;33m(\u001b[0m\u001b[0mx\u001b[0m\u001b[1;33m)\u001b[0m\u001b[1;33m:\u001b[0m\u001b[1;33m\u001b[0m\u001b[1;33m\u001b[0m\u001b[0m\n\u001b[1;32m--> 280\u001b[1;33m             \u001b[0mf\u001b[0m \u001b[1;33m=\u001b[0m \u001b[0mfun\u001b[0m\u001b[1;33m(\u001b[0m\u001b[0mx\u001b[0m\u001b[1;33m,\u001b[0m \u001b[1;33m*\u001b[0m\u001b[0margs\u001b[0m\u001b[1;33m)\u001b[0m\u001b[1;33m\u001b[0m\u001b[1;33m\u001b[0m\u001b[0m\n\u001b[0m\u001b[0;32m    281\u001b[0m             \u001b[0mg\u001b[0m \u001b[1;33m=\u001b[0m \u001b[0m_approx_fprime_helper\u001b[0m\u001b[1;33m(\u001b[0m\u001b[0mx\u001b[0m\u001b[1;33m,\u001b[0m \u001b[0mfun\u001b[0m\u001b[1;33m,\u001b[0m \u001b[0mepsilon\u001b[0m\u001b[1;33m,\u001b[0m \u001b[0margs\u001b[0m\u001b[1;33m=\u001b[0m\u001b[0margs\u001b[0m\u001b[1;33m,\u001b[0m \u001b[0mf0\u001b[0m\u001b[1;33m=\u001b[0m\u001b[0mf\u001b[0m\u001b[1;33m)\u001b[0m\u001b[1;33m\u001b[0m\u001b[1;33m\u001b[0m\u001b[0m\n\u001b[0;32m    282\u001b[0m             \u001b[1;32mreturn\u001b[0m \u001b[0mf\u001b[0m\u001b[1;33m,\u001b[0m \u001b[0mg\u001b[0m\u001b[1;33m\u001b[0m\u001b[1;33m\u001b[0m\u001b[0m\n",
      "\u001b[1;32mC:\\ProgramData\\Anaconda3\\lib\\site-packages\\scipy\\optimize\\optimize.py\u001b[0m in \u001b[0;36mfunction_wrapper\u001b[1;34m(*wrapper_args)\u001b[0m\n\u001b[0;32m    298\u001b[0m     \u001b[1;32mdef\u001b[0m \u001b[0mfunction_wrapper\u001b[0m\u001b[1;33m(\u001b[0m\u001b[1;33m*\u001b[0m\u001b[0mwrapper_args\u001b[0m\u001b[1;33m)\u001b[0m\u001b[1;33m:\u001b[0m\u001b[1;33m\u001b[0m\u001b[1;33m\u001b[0m\u001b[0m\n\u001b[0;32m    299\u001b[0m         \u001b[0mncalls\u001b[0m\u001b[1;33m[\u001b[0m\u001b[1;36m0\u001b[0m\u001b[1;33m]\u001b[0m \u001b[1;33m+=\u001b[0m \u001b[1;36m1\u001b[0m\u001b[1;33m\u001b[0m\u001b[1;33m\u001b[0m\u001b[0m\n\u001b[1;32m--> 300\u001b[1;33m         \u001b[1;32mreturn\u001b[0m \u001b[0mfunction\u001b[0m\u001b[1;33m(\u001b[0m\u001b[1;33m*\u001b[0m\u001b[1;33m(\u001b[0m\u001b[0mwrapper_args\u001b[0m \u001b[1;33m+\u001b[0m \u001b[0margs\u001b[0m\u001b[1;33m)\u001b[0m\u001b[1;33m)\u001b[0m\u001b[1;33m\u001b[0m\u001b[1;33m\u001b[0m\u001b[0m\n\u001b[0m\u001b[0;32m    301\u001b[0m \u001b[1;33m\u001b[0m\u001b[0m\n\u001b[0;32m    302\u001b[0m     \u001b[1;32mreturn\u001b[0m \u001b[0mncalls\u001b[0m\u001b[1;33m,\u001b[0m \u001b[0mfunction_wrapper\u001b[0m\u001b[1;33m\u001b[0m\u001b[1;33m\u001b[0m\u001b[0m\n",
      "\u001b[1;32mC:\\ProgramData\\Anaconda3\\lib\\site-packages\\statsmodels\\base\\model.py\u001b[0m in \u001b[0;36mf\u001b[1;34m(params, *args)\u001b[0m\n\u001b[0;32m    438\u001b[0m \u001b[1;33m\u001b[0m\u001b[0m\n\u001b[0;32m    439\u001b[0m         \u001b[1;32mdef\u001b[0m \u001b[0mf\u001b[0m\u001b[1;33m(\u001b[0m\u001b[0mparams\u001b[0m\u001b[1;33m,\u001b[0m \u001b[1;33m*\u001b[0m\u001b[0margs\u001b[0m\u001b[1;33m)\u001b[0m\u001b[1;33m:\u001b[0m\u001b[1;33m\u001b[0m\u001b[1;33m\u001b[0m\u001b[0m\n\u001b[1;32m--> 440\u001b[1;33m             \u001b[1;32mreturn\u001b[0m \u001b[1;33m-\u001b[0m\u001b[0mself\u001b[0m\u001b[1;33m.\u001b[0m\u001b[0mloglike\u001b[0m\u001b[1;33m(\u001b[0m\u001b[0mparams\u001b[0m\u001b[1;33m,\u001b[0m \u001b[1;33m*\u001b[0m\u001b[0margs\u001b[0m\u001b[1;33m)\u001b[0m \u001b[1;33m/\u001b[0m \u001b[0mnobs\u001b[0m\u001b[1;33m\u001b[0m\u001b[1;33m\u001b[0m\u001b[0m\n\u001b[0m\u001b[0;32m    441\u001b[0m \u001b[1;33m\u001b[0m\u001b[0m\n\u001b[0;32m    442\u001b[0m         \u001b[1;32mif\u001b[0m \u001b[0mmethod\u001b[0m \u001b[1;33m==\u001b[0m \u001b[1;34m'newton'\u001b[0m\u001b[1;33m:\u001b[0m\u001b[1;33m\u001b[0m\u001b[1;33m\u001b[0m\u001b[0m\n",
      "\u001b[1;32mC:\\ProgramData\\Anaconda3\\lib\\site-packages\\statsmodels\\tsa\\statespace\\mlemodel.py\u001b[0m in \u001b[0;36mloglike\u001b[1;34m(self, params, *args, **kwargs)\u001b[0m\n\u001b[0;32m    639\u001b[0m             \u001b[0mparams\u001b[0m \u001b[1;33m=\u001b[0m \u001b[0mself\u001b[0m\u001b[1;33m.\u001b[0m\u001b[0mtransform_params\u001b[0m\u001b[1;33m(\u001b[0m\u001b[0mparams\u001b[0m\u001b[1;33m)\u001b[0m\u001b[1;33m\u001b[0m\u001b[1;33m\u001b[0m\u001b[0m\n\u001b[0;32m    640\u001b[0m \u001b[1;33m\u001b[0m\u001b[0m\n\u001b[1;32m--> 641\u001b[1;33m         \u001b[0mself\u001b[0m\u001b[1;33m.\u001b[0m\u001b[0mupdate\u001b[0m\u001b[1;33m(\u001b[0m\u001b[0mparams\u001b[0m\u001b[1;33m,\u001b[0m \u001b[0mtransformed\u001b[0m\u001b[1;33m=\u001b[0m\u001b[1;32mTrue\u001b[0m\u001b[1;33m,\u001b[0m \u001b[0mcomplex_step\u001b[0m\u001b[1;33m=\u001b[0m\u001b[0mcomplex_step\u001b[0m\u001b[1;33m)\u001b[0m\u001b[1;33m\u001b[0m\u001b[1;33m\u001b[0m\u001b[0m\n\u001b[0m\u001b[0;32m    642\u001b[0m \u001b[1;33m\u001b[0m\u001b[0m\n\u001b[0;32m    643\u001b[0m         \u001b[1;32mif\u001b[0m \u001b[0mcomplex_step\u001b[0m\u001b[1;33m:\u001b[0m\u001b[1;33m\u001b[0m\u001b[1;33m\u001b[0m\u001b[0m\n",
      "\u001b[1;32mC:\\ProgramData\\Anaconda3\\lib\\site-packages\\statsmodels\\tsa\\statespace\\sarimax.py\u001b[0m in \u001b[0;36mupdate\u001b[1;34m(self, params, transformed, complex_step)\u001b[0m\n\u001b[0;32m   1674\u001b[0m         \u001b[1;31m# Initialize\u001b[0m\u001b[1;33m\u001b[0m\u001b[1;33m\u001b[0m\u001b[1;33m\u001b[0m\u001b[0m\n\u001b[0;32m   1675\u001b[0m         \u001b[1;32mif\u001b[0m \u001b[1;32mnot\u001b[0m \u001b[0mself\u001b[0m\u001b[1;33m.\u001b[0m\u001b[0m_manual_initialization\u001b[0m\u001b[1;33m:\u001b[0m\u001b[1;33m\u001b[0m\u001b[1;33m\u001b[0m\u001b[0m\n\u001b[1;32m-> 1676\u001b[1;33m             \u001b[0mself\u001b[0m\u001b[1;33m.\u001b[0m\u001b[0minitialize_state\u001b[0m\u001b[1;33m(\u001b[0m\u001b[0mcomplex_step\u001b[0m\u001b[1;33m=\u001b[0m\u001b[0mcomplex_step\u001b[0m\u001b[1;33m)\u001b[0m\u001b[1;33m\u001b[0m\u001b[1;33m\u001b[0m\u001b[0m\n\u001b[0m\u001b[0;32m   1677\u001b[0m \u001b[1;33m\u001b[0m\u001b[0m\n\u001b[0;32m   1678\u001b[0m         \u001b[1;32mreturn\u001b[0m \u001b[0mparams\u001b[0m\u001b[1;33m\u001b[0m\u001b[1;33m\u001b[0m\u001b[0m\n",
      "\u001b[1;32mC:\\ProgramData\\Anaconda3\\lib\\site-packages\\statsmodels\\tsa\\statespace\\sarimax.py\u001b[0m in \u001b[0;36minitialize_state\u001b[1;34m(self, variance, complex_step)\u001b[0m\n\u001b[0;32m    737\u001b[0m             initial_state_cov_stationary = solve_discrete_lyapunov(\n\u001b[0;32m    738\u001b[0m                 \u001b[0mtransition\u001b[0m\u001b[1;33m,\u001b[0m \u001b[0mselected_state_cov_stationary\u001b[0m\u001b[1;33m,\u001b[0m\u001b[1;33m\u001b[0m\u001b[1;33m\u001b[0m\u001b[0m\n\u001b[1;32m--> 739\u001b[1;33m                 complex_step=complex_step)\n\u001b[0m\u001b[0;32m    740\u001b[0m \u001b[1;33m\u001b[0m\u001b[0m\n\u001b[0;32m    741\u001b[0m             initial_state_cov[start:end, start:end] = (\n",
      "\u001b[1;32mC:\\ProgramData\\Anaconda3\\lib\\site-packages\\statsmodels\\tsa\\statespace\\tools.py\u001b[0m in \u001b[0;36msolve_discrete_lyapunov\u001b[1;34m(a, q, complex_step)\u001b[0m\n\u001b[0;32m    518\u001b[0m     \u001b[1;32mif\u001b[0m \u001b[1;32mnot\u001b[0m \u001b[0mcomplex_step\u001b[0m\u001b[1;33m:\u001b[0m\u001b[1;33m\u001b[0m\u001b[1;33m\u001b[0m\u001b[0m\n\u001b[0;32m    519\u001b[0m         \u001b[0maH\u001b[0m \u001b[1;33m=\u001b[0m \u001b[0ma\u001b[0m\u001b[1;33m.\u001b[0m\u001b[0mconj\u001b[0m\u001b[1;33m(\u001b[0m\u001b[1;33m)\u001b[0m\u001b[1;33m.\u001b[0m\u001b[0mtranspose\u001b[0m\u001b[1;33m(\u001b[0m\u001b[1;33m)\u001b[0m\u001b[1;33m\u001b[0m\u001b[1;33m\u001b[0m\u001b[0m\n\u001b[1;32m--> 520\u001b[1;33m         \u001b[0maHI_inv\u001b[0m \u001b[1;33m=\u001b[0m \u001b[0mnp\u001b[0m\u001b[1;33m.\u001b[0m\u001b[0mlinalg\u001b[0m\u001b[1;33m.\u001b[0m\u001b[0minv\u001b[0m\u001b[1;33m(\u001b[0m\u001b[0maH\u001b[0m \u001b[1;33m+\u001b[0m \u001b[0meye\u001b[0m\u001b[1;33m)\u001b[0m\u001b[1;33m\u001b[0m\u001b[1;33m\u001b[0m\u001b[0m\n\u001b[0m\u001b[0;32m    521\u001b[0m         \u001b[0mb\u001b[0m \u001b[1;33m=\u001b[0m \u001b[0mnp\u001b[0m\u001b[1;33m.\u001b[0m\u001b[0mdot\u001b[0m\u001b[1;33m(\u001b[0m\u001b[0maH\u001b[0m \u001b[1;33m-\u001b[0m \u001b[0meye\u001b[0m\u001b[1;33m,\u001b[0m \u001b[0maHI_inv\u001b[0m\u001b[1;33m)\u001b[0m\u001b[1;33m\u001b[0m\u001b[1;33m\u001b[0m\u001b[0m\n\u001b[0;32m    522\u001b[0m         \u001b[0mc\u001b[0m \u001b[1;33m=\u001b[0m \u001b[1;36m2\u001b[0m\u001b[1;33m*\u001b[0m\u001b[0mnp\u001b[0m\u001b[1;33m.\u001b[0m\u001b[0mdot\u001b[0m\u001b[1;33m(\u001b[0m\u001b[0mnp\u001b[0m\u001b[1;33m.\u001b[0m\u001b[0mdot\u001b[0m\u001b[1;33m(\u001b[0m\u001b[0mnp\u001b[0m\u001b[1;33m.\u001b[0m\u001b[0mlinalg\u001b[0m\u001b[1;33m.\u001b[0m\u001b[0minv\u001b[0m\u001b[1;33m(\u001b[0m\u001b[0ma\u001b[0m \u001b[1;33m+\u001b[0m \u001b[0meye\u001b[0m\u001b[1;33m)\u001b[0m\u001b[1;33m,\u001b[0m \u001b[0mq\u001b[0m\u001b[1;33m)\u001b[0m\u001b[1;33m,\u001b[0m \u001b[0maHI_inv\u001b[0m\u001b[1;33m)\u001b[0m\u001b[1;33m\u001b[0m\u001b[1;33m\u001b[0m\u001b[0m\n",
      "\u001b[1;32mC:\\ProgramData\\Anaconda3\\lib\\site-packages\\numpy\\linalg\\linalg.py\u001b[0m in \u001b[0;36minv\u001b[1;34m(a)\u001b[0m\n\u001b[0;32m    549\u001b[0m     \u001b[0msignature\u001b[0m \u001b[1;33m=\u001b[0m \u001b[1;34m'D->D'\u001b[0m \u001b[1;32mif\u001b[0m \u001b[0misComplexType\u001b[0m\u001b[1;33m(\u001b[0m\u001b[0mt\u001b[0m\u001b[1;33m)\u001b[0m \u001b[1;32melse\u001b[0m \u001b[1;34m'd->d'\u001b[0m\u001b[1;33m\u001b[0m\u001b[1;33m\u001b[0m\u001b[0m\n\u001b[0;32m    550\u001b[0m     \u001b[0mextobj\u001b[0m \u001b[1;33m=\u001b[0m \u001b[0mget_linalg_error_extobj\u001b[0m\u001b[1;33m(\u001b[0m\u001b[0m_raise_linalgerror_singular\u001b[0m\u001b[1;33m)\u001b[0m\u001b[1;33m\u001b[0m\u001b[1;33m\u001b[0m\u001b[0m\n\u001b[1;32m--> 551\u001b[1;33m     \u001b[0mainv\u001b[0m \u001b[1;33m=\u001b[0m \u001b[0m_umath_linalg\u001b[0m\u001b[1;33m.\u001b[0m\u001b[0minv\u001b[0m\u001b[1;33m(\u001b[0m\u001b[0ma\u001b[0m\u001b[1;33m,\u001b[0m \u001b[0msignature\u001b[0m\u001b[1;33m=\u001b[0m\u001b[0msignature\u001b[0m\u001b[1;33m,\u001b[0m \u001b[0mextobj\u001b[0m\u001b[1;33m=\u001b[0m\u001b[0mextobj\u001b[0m\u001b[1;33m)\u001b[0m\u001b[1;33m\u001b[0m\u001b[1;33m\u001b[0m\u001b[0m\n\u001b[0m\u001b[0;32m    552\u001b[0m     \u001b[1;32mreturn\u001b[0m \u001b[0mwrap\u001b[0m\u001b[1;33m(\u001b[0m\u001b[0mainv\u001b[0m\u001b[1;33m.\u001b[0m\u001b[0mastype\u001b[0m\u001b[1;33m(\u001b[0m\u001b[0mresult_t\u001b[0m\u001b[1;33m,\u001b[0m \u001b[0mcopy\u001b[0m\u001b[1;33m=\u001b[0m\u001b[1;32mFalse\u001b[0m\u001b[1;33m)\u001b[0m\u001b[1;33m)\u001b[0m\u001b[1;33m\u001b[0m\u001b[1;33m\u001b[0m\u001b[0m\n\u001b[0;32m    553\u001b[0m \u001b[1;33m\u001b[0m\u001b[0m\n",
      "\u001b[1;32mC:\\ProgramData\\Anaconda3\\lib\\site-packages\\numpy\\linalg\\linalg.py\u001b[0m in \u001b[0;36m_raise_linalgerror_singular\u001b[1;34m(err, flag)\u001b[0m\n\u001b[0;32m     95\u001b[0m \u001b[1;33m\u001b[0m\u001b[0m\n\u001b[0;32m     96\u001b[0m \u001b[1;32mdef\u001b[0m \u001b[0m_raise_linalgerror_singular\u001b[0m\u001b[1;33m(\u001b[0m\u001b[0merr\u001b[0m\u001b[1;33m,\u001b[0m \u001b[0mflag\u001b[0m\u001b[1;33m)\u001b[0m\u001b[1;33m:\u001b[0m\u001b[1;33m\u001b[0m\u001b[1;33m\u001b[0m\u001b[0m\n\u001b[1;32m---> 97\u001b[1;33m     \u001b[1;32mraise\u001b[0m \u001b[0mLinAlgError\u001b[0m\u001b[1;33m(\u001b[0m\u001b[1;34m\"Singular matrix\"\u001b[0m\u001b[1;33m)\u001b[0m\u001b[1;33m\u001b[0m\u001b[1;33m\u001b[0m\u001b[0m\n\u001b[0m\u001b[0;32m     98\u001b[0m \u001b[1;33m\u001b[0m\u001b[0m\n\u001b[0;32m     99\u001b[0m \u001b[1;32mdef\u001b[0m \u001b[0m_raise_linalgerror_nonposdef\u001b[0m\u001b[1;33m(\u001b[0m\u001b[0merr\u001b[0m\u001b[1;33m,\u001b[0m \u001b[0mflag\u001b[0m\u001b[1;33m)\u001b[0m\u001b[1;33m:\u001b[0m\u001b[1;33m\u001b[0m\u001b[1;33m\u001b[0m\u001b[0m\n",
      "\u001b[1;31mLinAlgError\u001b[0m: Singular matrix"
     ]
    }
   ],
   "source": [
    "%%time\n",
    "for element in [1,2,3,4,5,6,7,8,11,12,16,20,21,22,23,24,25,27,29,30,31,34,35,39]:\n",
    "    plt.figure(figsize=(17,3))\n",
    "    ax=plt.subplot(311)\n",
    "    plt.title(element)\n",
    "    plt.plot(factors_nsk[element])\n",
    "    plt.show()\n",
    "    if factors_nsk[element].isna().sum() > 1:\n",
    "        factors_nsk[element][-2]=factors_nsk[element][-3]\n",
    "    print(\"Пропущено значений:\", factors_nsk[element][:-1].isna().sum(), \n",
    "          \", критерий Дики-Фуллера: p =\", sm.tsa.stattools.adfuller(factors_nsk[element][:-1])[1])\n",
    "    \n",
    "    ps = range(0, 2)\n",
    "    d=1\n",
    "    qs = range(0, 12)\n",
    "    Ps = range(0, 3)\n",
    "    D=1\n",
    "    Qs = range(0, 3)\n",
    "    parameters = product(ps, qs, Ps, Qs)\n",
    "    parameters_list = list(parameters)\n",
    "    best_aic = float(\"inf\")\n",
    "    \n",
    "    if sm.tsa.stattools.adfuller(factors_nsk[element][:-1])[1] > 0.05:\n",
    "        for param in parameters_list:\n",
    "            #try except нужен, потому что на некоторых наборах параметров модель не обучается\n",
    "            try:\n",
    "                model=sm.tsa.statespace.SARIMAX(factors_nsk[element][:-1], order=(param[0], d, param[1]), \n",
    "                                                seasonal_order=(param[2], D, param[3], 12)).fit(disp=-1)\n",
    "            #выводим параметры, на которых модель не обучается и переходим к следующему набору\n",
    "            except ValueError:\n",
    "                continue\n",
    "            aic = model.aic\n",
    "            #сохраняем лучшую модель, aic, параметры\n",
    "            if aic < best_aic:\n",
    "                best_model = model\n",
    "                best_aic = aic\n",
    "                best_param = param\n",
    "                print(best_param, best_aic)\n",
    "    \n",
    "    if sm.tsa.stattools.adfuller(factors_nsk[element][:-1])[1] <=0.05:\n",
    "        plt.figure(figsize=(17,3))\n",
    "        ax=plt.subplot(311)\n",
    "        plt.title(element)\n",
    "        factors_nsk[element][:-1], lmbda = stats.boxcox(factors_nsk[element][:-1])\n",
    "        plt.plot(factors_nsk[element], c='r')\n",
    "        plt.show()\n",
    "        print(\"Оптимальный параметр преобразования Бокса-Кокса: \", lmbda)\n",
    "        print(\"Критерий Дики-Фуллера: p =\", sm.tsa.stattools.adfuller(factors_nsk[element][:-1])[1])\n",
    "        for param in parameters_list:\n",
    "            #try except нужен, потому что на некоторых наборах параметров модель не обучается\n",
    "            try:\n",
    "                model=sm.tsa.statespace.SARIMAX(factors_nsk[element][:-1], order=(param[0], d, param[1]), \n",
    "                                                seasonal_order=(param[2], D, param[3], 12)).fit(disp=-1)\n",
    "            #выводим параметры, на которых модель не обучается и переходим к следующему набору\n",
    "            except ValueError:\n",
    "                continue\n",
    "            aic = model.aic\n",
    "            #сохраняем лучшую модель, aic, параметры\n",
    "            if aic < best_aic:\n",
    "                best_model = model\n",
    "                best_aic = aic\n",
    "                best_param = param\n",
    "                print(best_param, best_aic)"
   ]
  },
  {
   "cell_type": "code",
   "execution_count": null,
   "metadata": {},
   "outputs": [],
   "source": []
  },
  {
   "cell_type": "code",
   "execution_count": null,
   "metadata": {},
   "outputs": [],
   "source": []
  },
  {
   "cell_type": "code",
   "execution_count": null,
   "metadata": {},
   "outputs": [],
   "source": []
  },
  {
   "cell_type": "code",
   "execution_count": null,
   "metadata": {},
   "outputs": [],
   "source": []
  },
  {
   "cell_type": "code",
   "execution_count": null,
   "metadata": {},
   "outputs": [],
   "source": []
  }
 ],
 "metadata": {
  "kernelspec": {
   "display_name": "Python 3",
   "language": "python",
   "name": "python3"
  },
  "language_info": {
   "codemirror_mode": {
    "name": "ipython",
    "version": 3
   },
   "file_extension": ".py",
   "mimetype": "text/x-python",
   "name": "python",
   "nbconvert_exporter": "python",
   "pygments_lexer": "ipython3",
   "version": "3.7.3"
  }
 },
 "nbformat": 4,
 "nbformat_minor": 2
}
